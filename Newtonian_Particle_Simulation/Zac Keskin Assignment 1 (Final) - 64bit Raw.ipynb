{
 "cells": [
  {
   "cell_type": "markdown",
   "metadata": {},
   "source": [
    "# Assignment 1 - 2D Particle Simulator"
   ]
  },
  {
   "cell_type": "markdown",
   "metadata": {},
   "source": [
    "Zac Keskin - Techniques of High Performance"
   ]
  },
  {
   "cell_type": "markdown",
   "metadata": {},
   "source": [
    "This notebook contains a simulation of particle-particle interactions in a 2D region bounded by [0,1] in each dimension, where the interations are defined by the potential felt by particle $i$ due to particle $j$:\n",
    "$$\n",
    "V_{ij} = -\\, \\frac{k_{j}}{2} \\, \\log \\,\\left|(x_i-x_j)^2 + (y_i - y_j)^2 \\right|\n",
    "$$ <br>\n",
    "Where $k_i$ is some scaing constant associated with each particle (e.g. 'charge') and where we have taken the Euclidean norm in 2D to define the distance between particles. <BR><BR>\n",
    "    \n",
    "Key design decisions were made in order to in ensure the high performance of the simulation. \n",
    "- Primarily, we present the simulation graphically by plotting the potential on a discrete mesh, where the potential at each element of the mesh is calculated in parallel using PyOpenCL.\n",
    "- Secondly, we parallelise across all particles the calculation of force, by summing the contributions from the potential of all other particles, resulting in $O(N)$ efficiency\n",
    "- We then perform vector operations in numpy to efficiently update velocities and positions accordingly, using the leapfrog algorithm to integrate through time \n",
    "\n",
    "<BR><BR>\n",
    "    \n",
    "There are a number of parameters defining the simulation which can be adjusted to investigate different behaviours. These are described below: <br>\n",
    "\n",
    "- `dtype` = Define whether to use single or double precision (chose `'64'` or `'32'`)\n",
    "- `device` = Choose whether to use 'GPU' or 'CPU'. If 'GPU' is chosen and none is available, the CPU will be used \n",
    "- `m` - Define the fineness of the discretised mesh\n",
    "- `N` - The number of particles\n",
    "- `k` - A coefficient defining the strength of the potential between particles. Currently applies the same k to all particles (int, default 1)\n",
    "- `reflect` - Define whether the particles should reflect at the boundary or not (Boolean, default `False`)\n",
    "\n",
    "You can also change the line in order to initialise the particle positions:`particles = equal(N)`\n",
    "\n",
    "Use `particles = gaussian(N)` or `particles = uniform(N)` to initialise the particles under normal or uniform random distributions respectively."
   ]
  },
  {
   "cell_type": "markdown",
   "metadata": {},
   "source": [
    "____"
   ]
  },
  {
   "cell_type": "markdown",
   "metadata": {},
   "source": [
    "### Prepare the simulation by defining chosen parameters"
   ]
  },
  {
   "cell_type": "code",
   "execution_count": null,
   "metadata": {},
   "outputs": [],
   "source": [
    "# Parameters\n",
    "dtype = '32'   \n",
    "device = 'GPU' \n",
    "N = 24\n",
    "m = 100\n",
    "k = 1   # We presently give all particles k=1\n",
    "r = 0.3 # Radius of initial circle, where equal() used\n",
    "reflect = False"
   ]
  },
  {
   "cell_type": "markdown",
   "metadata": {},
   "source": [
    "### Installing Prerequisites  \n",
    "If running on Azure, the default VM does not have PyOpenCL or VTK installed, so the first cell should be run to install these. \n",
    "- Please note, this can be quite slow, **so only run this cell if necessary**"
   ]
  },
  {
   "cell_type": "code",
   "execution_count": null,
   "metadata": {},
   "outputs": [],
   "source": [
    "!conda install -c conda-forge --yes --verbose pyopencl pocl"
   ]
  },
  {
   "cell_type": "code",
   "execution_count": null,
   "metadata": {},
   "outputs": [],
   "source": [
    "import pyopencl as cl\n",
    "import numpy as np\n",
    "from numpy.linalg import norm\n",
    "from math import pi, cos, sin\n",
    "import random\n",
    "import os"
   ]
  },
  {
   "cell_type": "markdown",
   "metadata": {},
   "source": [
    "### Including the Timer class \n",
    "This was provided by Dr Betcke, and will be used to measure the time taken to calculate the potential field"
   ]
  },
  {
   "cell_type": "code",
   "execution_count": null,
   "metadata": {},
   "outputs": [],
   "source": [
    "import time\n",
    "\n",
    "class Timer:    \n",
    "    def __enter__(self):\n",
    "        self.start = time.time()\n",
    "        return self\n",
    "\n",
    "    def __exit__(self, *args):\n",
    "        self.end = time.time()\n",
    "        self.interval = self.end - self.start"
   ]
  },
  {
   "cell_type": "markdown",
   "metadata": {},
   "source": [
    "### We create a particle class to hold the data on each particle\n",
    "This is used in the initialisation stage, for the sake of simplicity, but was found to be inefficient as an approach for parallelising the implementation, since the properties must be sent to device memory using numpy arrays. "
   ]
  },
  {
   "cell_type": "code",
   "execution_count": null,
   "metadata": {},
   "outputs": [],
   "source": [
    "class Particle():\n",
    "\n",
    "    def __init__(self, x, y, k = 1):\n",
    "        self.x = x\n",
    "        self.y = y\n",
    "        self.k = k\n",
    "        "
   ]
  },
  {
   "cell_type": "markdown",
   "metadata": {},
   "source": [
    "### We create three functions to initialise the positions of all N particles\n",
    "When initialising the particles, we select one of the three functions and return a list of particle objects distributed as described. From this initial position we can progress our simulation through time."
   ]
  },
  {
   "cell_type": "code",
   "execution_count": null,
   "metadata": {},
   "outputs": [],
   "source": [
    "# Create Particles equally spaced across circle radius = r \n",
    "def equal(N):\n",
    "    return [Particle(x = 0.5 + cos(2 * pi/N * n)*r,\n",
    "                     y = 0.5 + sin(2 * pi/N * n)*r,\n",
    "                     k = k)  for n in range(0,N)]\n",
    "\n",
    "# Create Particles uniformly distributed\n",
    "def uniform(N):\n",
    "    return [Particle(x = random.uniform(0,1),\n",
    "                     y = random.uniform(0,1),\n",
    "                     k = k)  for n in range(0,N)]\n",
    "\n",
    "# Create Particles normally distributed\n",
    "def gaussian(N): \n",
    "    return [Particle(x = random.gauss(0.5,0.1),\n",
    "                     y = random.uniform(0.5,0.1),\n",
    "                     k = k)  for n in range(0,N)]"
   ]
  },
  {
   "cell_type": "markdown",
   "metadata": {},
   "source": [
    "### Defining functions to return the potential field, given a set of particle coordinates\n",
    "We describe both a simple sequential implementation and also a parallelised implementation, and will later compare the performance in calculating the potential field, which is then used to plot our system of particles"
   ]
  },
  {
   "cell_type": "code",
   "execution_count": null,
   "metadata": {},
   "outputs": [],
   "source": [
    "# Sequential naive-Python implementation of Potential field calculation\n",
    "def get_potential(x,y,particles,ks):\n",
    "    # Potential is k*log(distance to particle) for each particles\n",
    "    N  = len(particles)\n",
    "    xs = np.array(x for p in particles)\n",
    "    ys = np.array(y for p in particles)\n",
    "\n",
    "    xjs = particles[:,0]\n",
    "    yjs = particles[:,1]\n",
    "\n",
    "    # Sum the contributions from each particle   \n",
    "    v=0\n",
    "    for j in range(len(particles)):\n",
    "        v = v + ks[j] * np.log( ( (x-xjs[j])**2 + (y-yjs[j])**2 )**0.5 )\n",
    "    return -v \n",
    "\n",
    "\n",
    "# Parallel, PyOpenCL implementation of Potential field calculation\n",
    "def get_potential_OpenCL(xx,yy,particles):\n",
    "    # Prepare tensors for use on device\n",
    "    xjs = particles[:,0].astype(dfloat)\n",
    "    yjs = particles[:,1].astype(dfloat)\n",
    "    V = np.empty_like(xx).astype(dfloat)\n",
    "\n",
    "    n_particles = np.array([len(xjs)]).astype(np.int32)\n",
    "    # Create buffers on device memory\n",
    "    xx_buffer = cl.Buffer(context, mem_flags.READ_ONLY | mem_flags.COPY_HOST_PTR, hostbuf= xx)\n",
    "    yy_buffer = cl.Buffer(context, mem_flags.READ_ONLY | mem_flags.COPY_HOST_PTR, hostbuf= yy)\n",
    "    xjs_buffer = cl.Buffer(context, mem_flags.READ_ONLY | mem_flags.COPY_HOST_PTR, hostbuf= xjs)\n",
    "    yjs_buffer = cl.Buffer(context, mem_flags.READ_ONLY | mem_flags.COPY_HOST_PTR, hostbuf= yjs)\n",
    "    ks_buffer = cl.Buffer(context, mem_flags.READ_ONLY | mem_flags.COPY_HOST_PTR, hostbuf= ks)\n",
    "    particles_buffer = cl.Buffer(context, mem_flags.READ_ONLY | mem_flags.COPY_HOST_PTR, hostbuf= n_particles)\n",
    "    out_buffer = cl.Buffer(context, mem_flags.WRITE_ONLY, V.nbytes)\n",
    "    kernel = \"\"\"   \n",
    "            __kernel void potential(const __global float *xs, \n",
    "                                    const __global float *ys,\n",
    "                                    const __global float *xjs, \n",
    "                                    const __global float *yjs,\n",
    "                                    const __global int *n_particles,\n",
    "                                          __global float *Vs)\n",
    "            {\n",
    "                const int gid = get_global_id(0);\n",
    "                \n",
    "                float V = 0.0;\n",
    "                float x = xs[gid]; \n",
    "                float y = ys[gid]; \n",
    "                int N = n_particles[0];\n",
    "                \n",
    "                for (int j=0; j<N; j++){\n",
    "                    V += 0.5*  log(    \n",
    "                                pown(x - xjs[j], 2) \n",
    "                             +  pown(y - yjs[j], 2) \n",
    "                                );           \n",
    "        \n",
    "                // Store the result\n",
    "                Vs[gid] = -V;\n",
    "                } \n",
    "            }\n",
    "\n",
    "             \"\"\"\n",
    "    \n",
    "    if dtype == '64':\n",
    "        kernel = kernel.replace(\"float \",\"double \")\n",
    "    # Run OpenCL Program \n",
    "    program = cl.Program(context, kernel).build()\n",
    "    program.potential(queue, ((m)*(m),), None, xx_buffer, yy_buffer, xjs_buffer, yjs_buffer, particles_buffer, out_buffer)\n",
    "    cl.enqueue_copy(queue, V, out_buffer)\n",
    "    return V"
   ]
  },
  {
   "cell_type": "markdown",
   "metadata": {},
   "source": [
    "### Defining the parallel implementation to return the force on each particle due to the other particles\n",
    "We can use the derivative of the inter-particle potential to calculate the interparticle force, and sum the contributions from all other particles. This is done for each particle in parallel using PyOpenCL"
   ]
  },
  {
   "cell_type": "code",
   "execution_count": null,
   "metadata": {},
   "outputs": [],
   "source": [
    "def get_forces_OpenCL(particles,ks):\n",
    "\n",
    "    # Create numpy objects to define memory requirements\n",
    "    forces = np.empty((N,2)).astype(dfloat)\n",
    "    xjs = positions[:,0].flatten().astype(dfloat)\n",
    "    yjs = positions[:,1].flatten().astype(dfloat)\n",
    "    \n",
    "    n_particles = np.array([len(xjs)]).astype(np.int32)\n",
    "    # Create OpenCL input buffers to store np arrays\n",
    "    xjs_buffer = cl.Buffer(context, mem_flags.READ_ONLY | mem_flags.COPY_HOST_PTR, hostbuf= xjs)\n",
    "    yjs_buffer = cl.Buffer(context, mem_flags.READ_ONLY | mem_flags.COPY_HOST_PTR, hostbuf= yjs)\n",
    "    ks_buffer = cl.Buffer(context, mem_flags.READ_ONLY | mem_flags.COPY_HOST_PTR, hostbuf= ks)\n",
    "    particles_buffer = cl.Buffer(context, mem_flags.READ_ONLY | mem_flags.COPY_HOST_PTR, hostbuf= n_particles)\n",
    "    forces_buffer = cl.Buffer(context, mem_flags.WRITE_ONLY, forces.nbytes)\n",
    "    \n",
    "    # Force on each particle is \n",
    "    forces_kernel = \"\"\"   \n",
    "            __kernel void force(   const __global float *xjs, \n",
    "                                    const __global float *yjs,\n",
    "                                    const __global float *ks,\n",
    "                                    const __global int *n_particles,\n",
    "                                          __global float *forces)\n",
    "            {\n",
    "                const int gid = get_global_id(0);\n",
    "                \n",
    "                float Fx = 0.0;\n",
    "                float Fy = 0.0;\n",
    "                int N = n_particles[0];\n",
    "                \n",
    "                for (int j=0; j<N  ; j++){\n",
    "                    float xj = xjs[j];\n",
    "                    float yj = yjs[j];\n",
    "                    \n",
    "                    if (j != gid){\n",
    "                        Fx += -ks[gid] * (xj-xjs[gid]) /( (xjs[gid]-xj)*(xjs[gid]-xj) + (yjs[gid]-yj)*(yjs[gid]-yj) );\n",
    "                        Fy += -ks[gid] * (yj-yjs[gid]) /( (xjs[gid]-xj)*(xjs[gid]-xj) + (yjs[gid]-yj)*(yjs[gid]-yj) );           \n",
    "                    };\n",
    "\n",
    "                forces[gid*2] = Fx;\n",
    "                forces[gid*2+1] = Fy;          \n",
    "                } \n",
    "            }\n",
    "\n",
    "             \"\"\"\n",
    "    if dtype == '64':\n",
    "        forces_kernel = forces_kernel.replace('float ','double ')\n",
    "    \n",
    "    # Run progream\n",
    "    program = cl.Program(context, forces_kernel).build()\n",
    "    program.force(queue, ((N)*(N),(N)*(N)), None, xjs_buffer, yjs_buffer, ks_buffer, particles_buffer, forces_buffer)\n",
    "    cl.enqueue_copy(queue, forces, forces_buffer)\n",
    "    return forces"
   ]
  },
  {
   "cell_type": "markdown",
   "metadata": {},
   "source": [
    "_______"
   ]
  },
  {
   "cell_type": "markdown",
   "metadata": {},
   "source": [
    "## Preparing the Simulation"
   ]
  },
  {
   "cell_type": "markdown",
   "metadata": {},
   "source": [
    "### Create a new OpenCL Context\n",
    "We prepare to parallelise the problem and solve for each meshgrid element at once, by using the GPU (if available)"
   ]
  },
  {
   "cell_type": "code",
   "execution_count": null,
   "metadata": {},
   "outputs": [],
   "source": [
    "# Create new OpenCL Context\n",
    "platforms = cl.get_platforms()\n",
    "if device == 'GPU' and len(platforms[0].get_devices(device_type=cl.device_type.GPU)) > 0:\n",
    "    devices = platforms[0].get_devices(device_type=cl.device_type.GPU)\n",
    "else:\n",
    "    devices = platforms[0].get_devices(device_type=cl.device_type.CPU)\n",
    "\n",
    "print('Operating on ' + str(devices[0].max_compute_units) + ' threads', '\\n' )\n",
    "\n",
    "# Check that the device can handle double precision\n",
    "if devices[0].double_fp_config == 0 and dtype == '64':\n",
    "    print('Your selected device can not use double precision decimals. \\n ' +\n",
    "            'Running simulation using single precision floats \\n')\n",
    "    dtype = 32\n",
    "\n",
    "\n",
    "# Configure type for np arrays\n",
    "if dtype == '64':\n",
    "    dfloat = np.float64\n",
    "else:\n",
    "    dtype = '32'\n",
    "    dfloat = np.float32\n",
    "    \n",
    "    \n",
    "context = cl.Context(devices=devices)\n",
    "queue = cl.CommandQueue(context) \n",
    "mem_flags = cl.mem_flags"
   ]
  },
  {
   "cell_type": "markdown",
   "metadata": {},
   "source": [
    "### Discretising the domain, using numpy to return the meshgrid\n",
    "m represents the number of points in each discretised axis of the unit box. Therefore the number of elements for which the potential must be calculated scales with $O(m^2)$"
   ]
  },
  {
   "cell_type": "code",
   "execution_count": null,
   "metadata": {},
   "outputs": [],
   "source": [
    "# Discretise the unit box using a numpy meshgrid:\n",
    "x = np.linspace(0, 1, m).astype(dfloat)\n",
    "y = np.linspace(0, 1, m).astype(dfloat)\n",
    "xx, yy = np.meshgrid(x,y)\n"
   ]
  },
  {
   "cell_type": "markdown",
   "metadata": {},
   "source": [
    "____"
   ]
  },
  {
   "cell_type": "markdown",
   "metadata": {},
   "source": [
    "## Running the Simulation"
   ]
  },
  {
   "cell_type": "markdown",
   "metadata": {},
   "source": [
    "### Initialising the Particle Positions"
   ]
  },
  {
   "cell_type": "code",
   "execution_count": null,
   "metadata": {},
   "outputs": [],
   "source": [
    "# Define Particles\n",
    "particles = equal(N)\n",
    "# Use np arrays for simpler interation\n",
    "positions = np.array([[p.x,p.y] for p in particles]).astype(dfloat)  # list containing the [x,y] coordinates\n",
    "ks = np.array([k for p in particles]).astype(dfloat) # list containing k for each particle"
   ]
  },
  {
   "cell_type": "markdown",
   "metadata": {},
   "source": [
    "### Initialising the Potential Field \n",
    "We compare the sequential python implementation with the parallel PyOpenCL implementation to calcultate the potential in each gridspace"
   ]
  },
  {
   "cell_type": "code",
   "execution_count": null,
   "metadata": {},
   "outputs": [],
   "source": [
    "with Timer() as t:\n",
    "    potential_field =  get_potential(xx[:,None], yy[None,:], positions, ks)[0]\n",
    "print('Python Potential Field Calculation on ' + str(m*m) + ' gridspaces: '  + str(round(t.interval,4)) + 's')"
   ]
  },
  {
   "cell_type": "code",
   "execution_count": null,
   "metadata": {},
   "outputs": [],
   "source": [
    "with Timer() as t:\n",
    "    potential_field = get_potential_OpenCL(xx, yy, positions).astype(dfloat)\n",
    "print('OpenCL Potential Field Calculation on ' + str(m*m) + ' gridspaces: '  + str(round(t.interval,4)) + 's')\n",
    "print('Parallel Gridspace calculations per Second: ' + str(round(m*m/t.interval)) ,'\\n')"
   ]
  },
  {
   "cell_type": "markdown",
   "metadata": {},
   "source": [
    "We note a marked improvement in the required time to calculate the potential field. This simulation simply would not be feasible without parallelisation."
   ]
  },
  {
   "cell_type": "markdown",
   "metadata": {},
   "source": [
    "### Initialising the Force on each particle\n",
    "We use the parallel computation defined above to return the force felt by each particle, and present key timing metrics."
   ]
  },
  {
   "cell_type": "code",
   "execution_count": null,
   "metadata": {},
   "outputs": [],
   "source": [
    "with Timer() as t:\n",
    "    forces = get_forces_OpenCL(positions,ks).astype(dfloat)\n",
    "print('OpenCL Calculation of ' + str(N*(N-1)) + ' particle interactions: ' + str(round(t.interval,4)) + 's')\n",
    "print('Particle-Particle Interations per Second: ' + str(round(N*(N-1)/t.interval)))"
   ]
  },
  {
   "cell_type": "markdown",
   "metadata": {},
   "source": [
    "We note that the performance gains increase with larger simulations. With N=200 we find: \n",
    "\n",
    "<br> Time taken for OpenCL calculation of 39,800 particle interactions: **0.1785s** <br>\n",
    "Particle-Particle Interations per Second: **222,909** <br><br>\n",
    "\n",
    "We note that this metric instead include the update of the positions and velocities as well as the force update, to measure the time for a complete particle-particle interaction; however the position and velocity updates are simply numpy vector operations, so the force update dominates the size of the calculation. Further, we find the initial computation to be considerably slower than those within the later steps of the loop, so the above figures are within approximate reason."
   ]
  },
  {
   "cell_type": "markdown",
   "metadata": {},
   "source": [
    "### Initialising the Velocities of each particle\n",
    "The Leapfrog Method can be implemented by performing an inital Forward Euler step to calculate the inital velocities of each particle due to the forces initialised above \n",
    "$$\n",
    "v_i^{(1/2)} = v_i^{(0)} + \\frac{1}{2}\\Delta t F(x_i^{(0)}).\n",
    "$$"
   ]
  },
  {
   "cell_type": "code",
   "execution_count": null,
   "metadata": {},
   "outputs": [],
   "source": [
    "dt = 0.001\n",
    "velocities = (0.5 * dt * forces)"
   ]
  },
  {
   "cell_type": "markdown",
   "metadata": {},
   "source": [
    "### Initialise the Animation"
   ]
  },
  {
   "cell_type": "markdown",
   "metadata": {},
   "source": [
    "We use Matplotlib's animate functionality to update the 2D imshow plot as we increment time, calculating new positions which then cause new forces on the particles, resulting in new velocities subject to\n",
    "\\begin{align}\n",
    "v_i^{(\\ell + \\frac{3}{2})} &= v_i^{(\\ell + \\frac{1}{2})} + \\Delta t F(x_i^{\\ell})\\nonumber\n",
    "\\end{align}\n",
    "These velocities are then used to update the positions of each particle in the next loop of the simulation, according to:\n",
    "\\begin{align}\n",
    "x_i^{(\\ell + 1)} &= x_i^{(\\ell)} + \\Delta t v_i^{(\\ell + \\frac{1}{2})}\\nonumber\\\\\n",
    "\\end{align}"
   ]
  },
  {
   "cell_type": "code",
   "execution_count": null,
   "metadata": {},
   "outputs": [],
   "source": [
    "%matplotlib inline\n",
    "import matplotlib.pyplot as plt\n",
    "from matplotlib import animation\n",
    "from IPython.display import HTML\n",
    "\n",
    "fig = plt.figure()\n",
    "im = plt.imshow(potential_field, interpolation='bicubic',cmap='Blues',\n",
    "                extent=[0, 1, 0, 1], animated=True, vmax = np.max(potential_field))\n",
    "plt.xlabel('x')\n",
    "plt.ylabel('y')\n",
    "plt.title('Potential, V(x,y)')\n"
   ]
  },
  {
   "cell_type": "code",
   "execution_count": null,
   "metadata": {
    "scrolled": true
   },
   "outputs": [],
   "source": [
    "%%capture\n",
    "def animate(*args):\n",
    "    global dt, velocities, positions, forces\n",
    "    # Update Positions\n",
    "    positions = positions + dt * velocities\n",
    "\n",
    "    # Update Forces in parallel using OpenCL\n",
    "    forces = get_forces_OpenCL(positions, ks)\n",
    "\n",
    "    # Update Velocities\n",
    "    velocities = velocities + dt * forces \n",
    "    # Include reflection along axes for particle collisions with border\n",
    "    elasticity = 0.9\n",
    "    if reflect == True:\n",
    "        velocities[np.logical_or(positions>1, positions<0)] =  - elasticity * velocities[np.logical_or(positions>1, positions<0)]\n",
    "    \n",
    "    \n",
    "    # Update potential field for plotting\n",
    "    potential_field = get_potential_OpenCL(xx,yy,positions)\n",
    "    im.set_array(potential_field)\n",
    "    \n",
    "    return im,\n",
    "\n",
    "anim = animation.FuncAnimation(fig, animate, frames=500, interval=1)"
   ]
  },
  {
   "cell_type": "code",
   "execution_count": null,
   "metadata": {},
   "outputs": [],
   "source": [
    "# Show the Animation\n",
    "%matplotlib inline\n",
    "HTML(anim.to_jshtml())"
   ]
  },
  {
   "cell_type": "markdown",
   "metadata": {},
   "source": [
    "### Creating a Surface Plot\n",
    "We also present a surface plot of the potential field as a second, interesting way to visualise the simulation"
   ]
  },
  {
   "cell_type": "code",
   "execution_count": null,
   "metadata": {},
   "outputs": [],
   "source": [
    "# Reinitialise the positions\n",
    "particles = equal(N)\n",
    "# Use np arrays for simpler interation\n",
    "positions = np.array([[p.x,p.y] for p in particles]).astype(dfloat)  # list containing the [x,y] coordinates\n",
    "ks = np.array([k for p in particles]).astype(dfloat) # list containing k for each particle\n",
    "\n",
    "# Reinitialise the potentials\n",
    "potential_field = get_potential_OpenCL(xx, yy, positions)"
   ]
  },
  {
   "cell_type": "code",
   "execution_count": null,
   "metadata": {},
   "outputs": [],
   "source": [
    "%matplotlib inline\n",
    "from mpl_toolkits.mplot3d import axes3d\n",
    "fig2 = plt.figure()\n",
    "\n",
    "ax = fig2.add_subplot(111, projection=\"3d\")\n",
    "ax.plot_surface(xx, yy, potential_field, cmap=\"Blues\", rstride=1, cstride=1, alpha=0.8) #, lw=0.8\n",
    "\n",
    "ax.set_xlabel('x')\n",
    "ax.set_ylabel('y')\n",
    "ax.set_zlabel('V(x,y)')\n",
    "\n",
    "plt.xlabel('x')\n",
    "plt.ylabel('y')\n",
    "plt.title('Potential, V(x,y)')\n",
    "\n",
    "plt.show()"
   ]
  }
 ],
 "metadata": {
  "kernelspec": {
   "display_name": "Python 3",
   "language": "python",
   "name": "python3"
  },
  "language_info": {
   "codemirror_mode": {
    "name": "ipython",
    "version": 3
   },
   "file_extension": ".py",
   "mimetype": "text/x-python",
   "name": "python",
   "nbconvert_exporter": "python",
   "pygments_lexer": "ipython3",
   "version": "3.6.4"
  }
 },
 "nbformat": 4,
 "nbformat_minor": 2
}
